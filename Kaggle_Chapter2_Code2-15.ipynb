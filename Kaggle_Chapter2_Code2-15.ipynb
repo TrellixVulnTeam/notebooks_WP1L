{
 "cells": [
  {
   "cell_type": "code",
   "execution_count": 31,
   "metadata": {},
   "outputs": [
    {
     "name": "stdout",
     "output_type": "stream",
     "text": [
      "Requirement already satisfied: xgboost in /home/ec2-user/anaconda3/envs/tensorflow_p36/lib/python3.6/site-packages (0.80)\n",
      "Requirement already satisfied: scipy in /home/ec2-user/anaconda3/envs/tensorflow_p36/lib/python3.6/site-packages (from xgboost) (1.1.0)\n",
      "Requirement already satisfied: numpy in /home/ec2-user/anaconda3/envs/tensorflow_p36/lib/python3.6/site-packages (from xgboost) (1.15.1)\n",
      "\u001b[31mdistributed 1.21.8 requires msgpack, which is not installed.\u001b[0m\n",
      "\u001b[33mYou are using pip version 10.0.1, however version 18.0 is available.\n",
      "You should consider upgrading via the 'pip install --upgrade pip' command.\u001b[0m\n"
     ]
    }
   ],
   "source": [
    "!pip install xgboost\n",
    "\n",
    "import pandas as pd\n",
    "import numpy as np\n",
    "import xgboost as xgb"
   ]
  },
  {
   "cell_type": "code",
   "execution_count": 32,
   "metadata": {},
   "outputs": [
    {
     "name": "stdout",
     "output_type": "stream",
     "text": [
      "CPU times: user 1min 14s, sys: 9.23 s, total: 1min 24s\n",
      "Wall time: 1min 24s\n"
     ]
    }
   ],
   "source": [
    "%%time\n",
    "\n",
    "np.random.seed(2018)\n",
    "\n",
    "trn = pd.read_csv('train_ver2.csv', low_memory=False)\n",
    "tst = pd.read_csv('test_ver2.csv', low_memory=False)"
   ]
  },
  {
   "cell_type": "code",
   "execution_count": 34,
   "metadata": {},
   "outputs": [
    {
     "name": "stdout",
     "output_type": "stream",
     "text": [
      "CPU times: user 25.6 s, sys: 10.8 s, total: 36.4 s\n",
      "Wall time: 36.4 s\n"
     ]
    }
   ],
   "source": [
    "%%time\n",
    "\n",
    "prods = trn.columns[24:].tolist()\n",
    "\n",
    "trn[prods] = trn[prods].fillna(0.0).astype(np.int8)\n",
    "\n",
    "no_product = trn[prods].sum(axis=1) == 0\n",
    "trn = trn[~no_product]\n",
    "\n",
    "for col in trn.columns[24:]:\n",
    "    tst[col] = 0\n",
    "    \n",
    "df = pd.concat([trn, tst], axis=0)\n",
    "\n",
    "features = []\n",
    "\n",
    "categorical_cols = ['ind_empleado', 'pais_residencia', 'sexo', 'tiprel_1mes', 'indresi', 'indext',\n",
    "                   'conyuemp', 'canal_entrada', 'indfall', 'tipodom', 'nomprov', 'segmento']\n",
    "\n",
    "for col in categorical_cols:\n",
    "    df[col], _ = df[col].factorize(na_sentinel=-99)\n",
    "features += categorical_cols\n"
   ]
  },
  {
   "cell_type": "code",
   "execution_count": 35,
   "metadata": {},
   "outputs": [
    {
     "name": "stdout",
     "output_type": "stream",
     "text": [
      "CPU times: user 3.32 s, sys: 0 ns, total: 3.32 s\n",
      "Wall time: 3.31 s\n"
     ]
    }
   ],
   "source": [
    "%%time\n",
    "\n",
    "df['age'].replace(' NA', -99, inplace=True)\n",
    "df['age'] = df['age'].astype(np.int8)\n",
    "\n",
    "df['antiguedad'].replace('     NA', -99, inplace=True)\n",
    "df['antiguedad'] = df['antiguedad'].astype(np.int8)\n"
   ]
  },
  {
   "cell_type": "code",
   "execution_count": 36,
   "metadata": {},
   "outputs": [
    {
     "name": "stdout",
     "output_type": "stream",
     "text": [
      "CPU times: user 4.3 s, sys: 0 ns, total: 4.3 s\n",
      "Wall time: 4.29 s\n"
     ]
    }
   ],
   "source": [
    "%%time\n",
    "df['renta'].replace('         NA', -99, inplace=True)\n",
    "df['renta'].fillna(-99, inplace=True)\n",
    "df['renta'] = df['renta'].astype(float).astype(np.int8)\n"
   ]
  },
  {
   "cell_type": "code",
   "execution_count": 37,
   "metadata": {},
   "outputs": [
    {
     "name": "stdout",
     "output_type": "stream",
     "text": [
      "CPU times: user 1.65 s, sys: 0 ns, total: 1.65 s\n",
      "Wall time: 1.65 s\n"
     ]
    }
   ],
   "source": [
    "%%time\n",
    "df['indrel_1mes'].replace('P', 5, inplace=True)\n",
    "df['indrel_1mes'].fillna(-99, inplace=True)\n",
    "df['indrel_1mes'] = df['indrel_1mes'].astype(float).astype(np.int8)\n"
   ]
  },
  {
   "cell_type": "code",
   "execution_count": 38,
   "metadata": {},
   "outputs": [
    {
     "name": "stdout",
     "output_type": "stream",
     "text": [
      "CPU times: user 0 ns, sys: 0 ns, total: 0 ns\n",
      "Wall time: 8.34 µs\n"
     ]
    }
   ],
   "source": [
    "%%time\n",
    "\n",
    "features += ['age', 'antiguedad', 'renta', 'ind_nuevo', 'indrel', 'indrel_1mes', 'ind_actividad_cliente']\n"
   ]
  },
  {
   "cell_type": "code",
   "execution_count": 39,
   "metadata": {},
   "outputs": [
    {
     "name": "stdout",
     "output_type": "stream",
     "text": [
      "CPU times: user 18.3 s, sys: 96 ms, total: 18.4 s\n",
      "Wall time: 18.4 s\n"
     ]
    }
   ],
   "source": [
    "%%time\n",
    "df['fecha_alta_month'] = df['fecha_alta'].map(lambda x:0.0 if x.__class__ is float else float(x.split('-')[1])).astype(np.int8)\n",
    "df['fecha_alta_year'] = df['fecha_alta'].map(lambda x:0.0 if x.__class__ is float else float(x.split('-')[0])).astype(np.int16)\n",
    "features += ['fecha_alta_month', 'fecha_alta_year']\n"
   ]
  },
  {
   "cell_type": "code",
   "execution_count": 40,
   "metadata": {},
   "outputs": [
    {
     "name": "stdout",
     "output_type": "stream",
     "text": [
      "CPU times: user 6.22 s, sys: 4 ms, total: 6.22 s\n",
      "Wall time: 6.22 s\n"
     ]
    }
   ],
   "source": [
    "%%time\n",
    "df['ult_fec_cli_1t_month'] = df['ult_fec_cli_1t'].map(lambda x:0.0 if x.__class__ is float else float(x.split('-')[1])).astype(np.int8)\n",
    "df['ult_fec_cli_1t_year'] = df['ult_fec_cli_1t'].map(lambda x:0.0 if x.__class__ is float else float(x.split('-')[0])).astype(np.int16)\n",
    "features += ['ult_fec_cli_1t_month', 'ult_fec_cli_1t_year']\n"
   ]
  },
  {
   "cell_type": "code",
   "execution_count": 41,
   "metadata": {},
   "outputs": [
    {
     "name": "stdout",
     "output_type": "stream",
     "text": [
      "CPU times: user 1min 2s, sys: 30.1 s, total: 1min 32s\n",
      "Wall time: 1min 33s\n"
     ]
    }
   ],
   "source": [
    "%%time\n",
    "df.fillna(-99, inplace=True)\n",
    "\n",
    "def date_to_int(str_date):\n",
    "    Y, M, D = [int(a) for a in str_date.strip().split(\"-\")]\n",
    "    int_date = (int(Y) - 2015) * 12 + int(M)\n",
    "    return int_date\n",
    "\n",
    "df['int_date'] = df['fecha_dato'].map(date_to_int).astype(np.int8)\n",
    "\n",
    "df_lag = df.copy()\n",
    "df_lag.columns = [col + '_prev' if col not in ['ncodpers','int_date'] else col for col in df.columns ]\n",
    "df_lag['int_date'] += 1\n",
    "\n",
    "df_trn = df.merge(df_lag, on=['ncodpers', 'int_date'], how='left')\n",
    "\n",
    "del df, df_lag\n",
    "for prod in prods:\n",
    "    prev = prod + '_prev'\n",
    "    df_trn[prev].fillna(0, inplace=True)\n",
    "    \n",
    "df_trn.fillna(-99, inplace=True)\n",
    "\n",
    "features += [feature + '_prev' for feature in features]\n",
    "features += [prod + '_prev' for prod in prods]\n",
    "\n"
   ]
  },
  {
   "cell_type": "code",
   "execution_count": 42,
   "metadata": {},
   "outputs": [
    {
     "name": "stdout",
     "output_type": "stream",
     "text": [
      "CPU times: user 3.64 s, sys: 828 ms, total: 4.47 s\n",
      "Wall time: 4.47 s\n"
     ]
    }
   ],
   "source": [
    "%%time\n",
    "use_dates = ['2016-01-28', '2016-02-28', '2016-03-28', '2016-04-28', '2016-05-28']\n",
    "trn = df_trn[df_trn['fecha_dato'].isin(use_dates)]\n",
    "tst = df_trn[df_trn['fecha_dato'] == '2016-06-28']\n",
    "\n",
    "del df_trn\n",
    "\n",
    "X=[]\n",
    "Y=[]\n",
    "\n",
    "for i, prod in enumerate(prods):\n",
    "    prev = prod + '_prev'\n",
    "    prX = trn[(trn[prod] == 1) & (trn[prev] == 0)]\n",
    "    prY = np.zeros(prX.shape[0], dtype=np.int8) + i\n",
    "    X.append(prX)\n",
    "    Y.append(prY)\n",
    "    \n",
    "XY = pd.concat(X)\n",
    "Y = np.hstack(Y)\n",
    "XY['y'] = Y\n",
    "\n",
    "\n",
    "vld_date = '2016-05-28'\n",
    "XY_trn = XY[XY['fecha_dato'] != vld_date]\n",
    "XY_vld = XY[XY['fecha_dato'] == vld_date]\n",
    "\n",
    "## - TESTING\n"
   ]
  },
  {
   "cell_type": "code",
   "execution_count": 45,
   "metadata": {},
   "outputs": [
    {
     "name": "stdout",
     "output_type": "stream",
     "text": [
      "CPU times: user 124 ms, sys: 0 ns, total: 124 ms\n",
      "Wall time: 121 ms\n"
     ]
    }
   ],
   "source": [
    "%%time\n",
    "## XXGBoost model training\n",
    "\n",
    "\n",
    "param = {\n",
    "    'booster': 'gbtree',\n",
    "    'max_depth': 8,\n",
    "    'nthread': 4,\n",
    "    'num_class': len(prods),\n",
    "    'objective': 'multi:softprob',\n",
    "    'silent': 1,\n",
    "    'eval_metric': 'mlogloss',\n",
    "    \n",
    "    'eta': 0.1,\n",
    "    'min_child_weight': 10,\n",
    "    'colsample_bytree': 0.8,\n",
    "    'colsample_bylevel': 0.9,\n",
    "    'seed': 2018,\n",
    "}\n",
    "\n",
    "X_trn = XY_trn.as_matrix(columns=features)\n",
    "Y_trn = XY_trn.as_matrix(columns=['y'])\n",
    "\n",
    "dtrn = xgb.DMatrix(X_trn, label=Y_trn, feature_names=features)"
   ]
  },
  {
   "cell_type": "code",
   "execution_count": 46,
   "metadata": {},
   "outputs": [],
   "source": [
    "X_vld = XY_vld.as_matrix(columns=features)\n",
    "Y_vld = XY_vld.as_matrix(columns=['y'])\n",
    "\n",
    "dvld = xgb.DMatrix(X_vld, label=Y_vld, feature_names=features)"
   ]
  },
  {
   "cell_type": "code",
   "execution_count": 48,
   "metadata": {},
   "outputs": [
    {
     "name": "stdout",
     "output_type": "stream",
     "text": [
      "[0]\ttrain-mlogloss:2.73433\teval-mlogloss:2.74233\n",
      "Multiple eval metrics have been passed: 'eval-mlogloss' will be used for early stopping.\n",
      "\n",
      "Will train until eval-mlogloss hasn't improved in 20 rounds.\n",
      "[1]\ttrain-mlogloss:2.48344\teval-mlogloss:2.49555\n",
      "[2]\ttrain-mlogloss:2.30469\teval-mlogloss:2.31939\n",
      "[3]\ttrain-mlogloss:2.15884\teval-mlogloss:2.17532\n",
      "[4]\ttrain-mlogloss:2.03811\teval-mlogloss:2.05536\n",
      "[5]\ttrain-mlogloss:1.9436\teval-mlogloss:1.96203\n",
      "[6]\ttrain-mlogloss:1.86333\teval-mlogloss:1.88254\n",
      "[7]\ttrain-mlogloss:1.7903\teval-mlogloss:1.81012\n",
      "[8]\ttrain-mlogloss:1.73062\teval-mlogloss:1.75126\n",
      "[9]\ttrain-mlogloss:1.67667\teval-mlogloss:1.69764\n",
      "[10]\ttrain-mlogloss:1.62686\teval-mlogloss:1.64816\n",
      "[11]\ttrain-mlogloss:1.58347\teval-mlogloss:1.60491\n",
      "[12]\ttrain-mlogloss:1.54526\teval-mlogloss:1.56676\n",
      "[13]\ttrain-mlogloss:1.5097\teval-mlogloss:1.53164\n",
      "[14]\ttrain-mlogloss:1.47852\teval-mlogloss:1.50091\n",
      "[15]\ttrain-mlogloss:1.4491\teval-mlogloss:1.47187\n",
      "[16]\ttrain-mlogloss:1.42437\teval-mlogloss:1.44772\n",
      "[17]\ttrain-mlogloss:1.40017\teval-mlogloss:1.42392\n",
      "[18]\ttrain-mlogloss:1.37815\teval-mlogloss:1.40214\n",
      "[19]\ttrain-mlogloss:1.35801\teval-mlogloss:1.38243\n",
      "[20]\ttrain-mlogloss:1.33967\teval-mlogloss:1.36419\n",
      "[21]\ttrain-mlogloss:1.32261\teval-mlogloss:1.34743\n",
      "[22]\ttrain-mlogloss:1.30671\teval-mlogloss:1.33198\n",
      "[23]\ttrain-mlogloss:1.29188\teval-mlogloss:1.31768\n",
      "[24]\ttrain-mlogloss:1.27771\teval-mlogloss:1.30382\n",
      "[25]\ttrain-mlogloss:1.26402\teval-mlogloss:1.29045\n",
      "[26]\ttrain-mlogloss:1.2515\teval-mlogloss:1.27821\n",
      "[27]\ttrain-mlogloss:1.24025\teval-mlogloss:1.26718\n",
      "[28]\ttrain-mlogloss:1.2292\teval-mlogloss:1.25629\n",
      "[29]\ttrain-mlogloss:1.21916\teval-mlogloss:1.24664\n",
      "[30]\ttrain-mlogloss:1.2097\teval-mlogloss:1.23765\n",
      "[31]\ttrain-mlogloss:1.20117\teval-mlogloss:1.22948\n",
      "[32]\ttrain-mlogloss:1.19273\teval-mlogloss:1.22129\n",
      "[33]\ttrain-mlogloss:1.18499\teval-mlogloss:1.21387\n",
      "[34]\ttrain-mlogloss:1.17783\teval-mlogloss:1.20696\n",
      "[35]\ttrain-mlogloss:1.17131\teval-mlogloss:1.20078\n",
      "[36]\ttrain-mlogloss:1.16475\teval-mlogloss:1.19476\n",
      "[37]\ttrain-mlogloss:1.15886\teval-mlogloss:1.18919\n",
      "[38]\ttrain-mlogloss:1.15308\teval-mlogloss:1.18381\n",
      "[39]\ttrain-mlogloss:1.14785\teval-mlogloss:1.1789\n",
      "[40]\ttrain-mlogloss:1.14292\teval-mlogloss:1.17453\n",
      "[41]\ttrain-mlogloss:1.13802\teval-mlogloss:1.16998\n",
      "[42]\ttrain-mlogloss:1.13344\teval-mlogloss:1.1658\n",
      "[43]\ttrain-mlogloss:1.12901\teval-mlogloss:1.1618\n",
      "[44]\ttrain-mlogloss:1.12466\teval-mlogloss:1.15794\n",
      "[45]\ttrain-mlogloss:1.12089\teval-mlogloss:1.15457\n",
      "[46]\ttrain-mlogloss:1.11716\teval-mlogloss:1.15122\n",
      "[47]\ttrain-mlogloss:1.11402\teval-mlogloss:1.14851\n",
      "[48]\ttrain-mlogloss:1.11082\teval-mlogloss:1.14568\n",
      "[49]\ttrain-mlogloss:1.10773\teval-mlogloss:1.14291\n",
      "[50]\ttrain-mlogloss:1.10483\teval-mlogloss:1.14041\n",
      "[51]\ttrain-mlogloss:1.10181\teval-mlogloss:1.1378\n",
      "[52]\ttrain-mlogloss:1.099\teval-mlogloss:1.13533\n",
      "[53]\ttrain-mlogloss:1.09625\teval-mlogloss:1.1331\n",
      "[54]\ttrain-mlogloss:1.09371\teval-mlogloss:1.13097\n",
      "[55]\ttrain-mlogloss:1.09137\teval-mlogloss:1.12901\n",
      "[56]\ttrain-mlogloss:1.08917\teval-mlogloss:1.12708\n",
      "[57]\ttrain-mlogloss:1.08705\teval-mlogloss:1.12531\n",
      "[58]\ttrain-mlogloss:1.08484\teval-mlogloss:1.12356\n",
      "[59]\ttrain-mlogloss:1.08281\teval-mlogloss:1.12192\n",
      "[60]\ttrain-mlogloss:1.0809\teval-mlogloss:1.12033\n",
      "[61]\ttrain-mlogloss:1.0791\teval-mlogloss:1.11894\n",
      "[62]\ttrain-mlogloss:1.07725\teval-mlogloss:1.11757\n",
      "[63]\ttrain-mlogloss:1.0756\teval-mlogloss:1.11623\n",
      "[64]\ttrain-mlogloss:1.0739\teval-mlogloss:1.11498\n",
      "[65]\ttrain-mlogloss:1.07237\teval-mlogloss:1.11374\n",
      "[66]\ttrain-mlogloss:1.07085\teval-mlogloss:1.11266\n",
      "[67]\ttrain-mlogloss:1.06939\teval-mlogloss:1.11158\n",
      "[68]\ttrain-mlogloss:1.06802\teval-mlogloss:1.11048\n",
      "[69]\ttrain-mlogloss:1.06654\teval-mlogloss:1.10945\n",
      "[70]\ttrain-mlogloss:1.06519\teval-mlogloss:1.10847\n",
      "[71]\ttrain-mlogloss:1.06393\teval-mlogloss:1.10772\n",
      "[72]\ttrain-mlogloss:1.06271\teval-mlogloss:1.10694\n",
      "[73]\ttrain-mlogloss:1.06139\teval-mlogloss:1.10612\n",
      "[74]\ttrain-mlogloss:1.06016\teval-mlogloss:1.10532\n",
      "[75]\ttrain-mlogloss:1.05894\teval-mlogloss:1.10459\n",
      "[76]\ttrain-mlogloss:1.05783\teval-mlogloss:1.10394\n",
      "[77]\ttrain-mlogloss:1.05668\teval-mlogloss:1.10325\n",
      "[78]\ttrain-mlogloss:1.05568\teval-mlogloss:1.10272\n",
      "[79]\ttrain-mlogloss:1.05463\teval-mlogloss:1.10211\n",
      "[80]\ttrain-mlogloss:1.05373\teval-mlogloss:1.10153\n",
      "[81]\ttrain-mlogloss:1.05282\teval-mlogloss:1.10103\n",
      "[82]\ttrain-mlogloss:1.05183\teval-mlogloss:1.10049\n",
      "[83]\ttrain-mlogloss:1.05086\teval-mlogloss:1.10001\n",
      "[84]\ttrain-mlogloss:1.04987\teval-mlogloss:1.09955\n",
      "[85]\ttrain-mlogloss:1.04894\teval-mlogloss:1.09902\n",
      "[86]\ttrain-mlogloss:1.04801\teval-mlogloss:1.09852\n",
      "[87]\ttrain-mlogloss:1.04727\teval-mlogloss:1.09804\n",
      "[88]\ttrain-mlogloss:1.04656\teval-mlogloss:1.09763\n",
      "[89]\ttrain-mlogloss:1.04579\teval-mlogloss:1.09723\n",
      "[90]\ttrain-mlogloss:1.04507\teval-mlogloss:1.09686\n",
      "[91]\ttrain-mlogloss:1.04422\teval-mlogloss:1.09653\n",
      "[92]\ttrain-mlogloss:1.04335\teval-mlogloss:1.09612\n",
      "[93]\ttrain-mlogloss:1.0426\teval-mlogloss:1.09577\n",
      "[94]\ttrain-mlogloss:1.04182\teval-mlogloss:1.09547\n",
      "[95]\ttrain-mlogloss:1.04114\teval-mlogloss:1.09519\n",
      "[96]\ttrain-mlogloss:1.04041\teval-mlogloss:1.0949\n",
      "[97]\ttrain-mlogloss:1.03972\teval-mlogloss:1.09465\n",
      "[98]\ttrain-mlogloss:1.03905\teval-mlogloss:1.09439\n",
      "[99]\ttrain-mlogloss:1.03828\teval-mlogloss:1.09419\n",
      "[100]\ttrain-mlogloss:1.03761\teval-mlogloss:1.09398\n",
      "[101]\ttrain-mlogloss:1.03688\teval-mlogloss:1.09377\n",
      "[102]\ttrain-mlogloss:1.03617\teval-mlogloss:1.09357\n",
      "[103]\ttrain-mlogloss:1.03549\teval-mlogloss:1.09329\n",
      "[104]\ttrain-mlogloss:1.03489\teval-mlogloss:1.09307\n",
      "[105]\ttrain-mlogloss:1.03418\teval-mlogloss:1.09287\n",
      "[106]\ttrain-mlogloss:1.03359\teval-mlogloss:1.09268\n",
      "[107]\ttrain-mlogloss:1.03296\teval-mlogloss:1.09251\n",
      "[108]\ttrain-mlogloss:1.03236\teval-mlogloss:1.09236\n",
      "[109]\ttrain-mlogloss:1.03176\teval-mlogloss:1.09217\n",
      "[110]\ttrain-mlogloss:1.03116\teval-mlogloss:1.092\n",
      "[111]\ttrain-mlogloss:1.03049\teval-mlogloss:1.09187\n",
      "[112]\ttrain-mlogloss:1.02967\teval-mlogloss:1.09168\n",
      "[113]\ttrain-mlogloss:1.02903\teval-mlogloss:1.0916\n",
      "[114]\ttrain-mlogloss:1.02852\teval-mlogloss:1.09145\n",
      "[115]\ttrain-mlogloss:1.02794\teval-mlogloss:1.0913\n",
      "[116]\ttrain-mlogloss:1.02737\teval-mlogloss:1.09118\n",
      "[117]\ttrain-mlogloss:1.02666\teval-mlogloss:1.09104\n",
      "[118]\ttrain-mlogloss:1.02604\teval-mlogloss:1.09091\n",
      "[119]\ttrain-mlogloss:1.02549\teval-mlogloss:1.09088\n",
      "[120]\ttrain-mlogloss:1.02494\teval-mlogloss:1.09073\n",
      "[121]\ttrain-mlogloss:1.02428\teval-mlogloss:1.09063\n",
      "[122]\ttrain-mlogloss:1.02381\teval-mlogloss:1.09056\n",
      "[123]\ttrain-mlogloss:1.02323\teval-mlogloss:1.09048\n",
      "[124]\ttrain-mlogloss:1.02262\teval-mlogloss:1.09031\n",
      "[125]\ttrain-mlogloss:1.02179\teval-mlogloss:1.09021\n",
      "[126]\ttrain-mlogloss:1.02106\teval-mlogloss:1.09008\n",
      "[127]\ttrain-mlogloss:1.02033\teval-mlogloss:1.08991\n",
      "[128]\ttrain-mlogloss:1.01962\teval-mlogloss:1.08975\n",
      "[129]\ttrain-mlogloss:1.01916\teval-mlogloss:1.08967\n",
      "[130]\ttrain-mlogloss:1.01856\teval-mlogloss:1.08961\n",
      "[131]\ttrain-mlogloss:1.01802\teval-mlogloss:1.08954\n",
      "[132]\ttrain-mlogloss:1.01742\teval-mlogloss:1.08947\n",
      "[133]\ttrain-mlogloss:1.01692\teval-mlogloss:1.08943\n",
      "[134]\ttrain-mlogloss:1.01619\teval-mlogloss:1.08933\n",
      "[135]\ttrain-mlogloss:1.01556\teval-mlogloss:1.08927\n",
      "[136]\ttrain-mlogloss:1.01493\teval-mlogloss:1.08925\n",
      "[137]\ttrain-mlogloss:1.0144\teval-mlogloss:1.08921\n",
      "[138]\ttrain-mlogloss:1.01376\teval-mlogloss:1.08919\n",
      "[139]\ttrain-mlogloss:1.01329\teval-mlogloss:1.08908\n",
      "[140]\ttrain-mlogloss:1.01256\teval-mlogloss:1.08901\n",
      "[141]\ttrain-mlogloss:1.01206\teval-mlogloss:1.08897\n",
      "[142]\ttrain-mlogloss:1.01152\teval-mlogloss:1.08893\n",
      "[143]\ttrain-mlogloss:1.01094\teval-mlogloss:1.08892\n",
      "[144]\ttrain-mlogloss:1.01045\teval-mlogloss:1.08888\n",
      "[145]\ttrain-mlogloss:1.00997\teval-mlogloss:1.08883\n",
      "[146]\ttrain-mlogloss:1.00936\teval-mlogloss:1.08877\n",
      "[147]\ttrain-mlogloss:1.0088\teval-mlogloss:1.08871\n",
      "[148]\ttrain-mlogloss:1.00822\teval-mlogloss:1.0887\n",
      "[149]\ttrain-mlogloss:1.00766\teval-mlogloss:1.08867\n",
      "[150]\ttrain-mlogloss:1.00697\teval-mlogloss:1.08856\n",
      "[151]\ttrain-mlogloss:1.00639\teval-mlogloss:1.08855\n",
      "[152]\ttrain-mlogloss:1.00586\teval-mlogloss:1.08856\n",
      "[153]\ttrain-mlogloss:1.00531\teval-mlogloss:1.08847\n",
      "[154]\ttrain-mlogloss:1.00488\teval-mlogloss:1.08846\n",
      "[155]\ttrain-mlogloss:1.00426\teval-mlogloss:1.08847\n",
      "[156]\ttrain-mlogloss:1.00359\teval-mlogloss:1.08838\n",
      "[157]\ttrain-mlogloss:1.00296\teval-mlogloss:1.08835\n",
      "[158]\ttrain-mlogloss:1.00248\teval-mlogloss:1.08833\n",
      "[159]\ttrain-mlogloss:1.00188\teval-mlogloss:1.08829\n",
      "[160]\ttrain-mlogloss:1.00142\teval-mlogloss:1.08828\n"
     ]
    },
    {
     "name": "stdout",
     "output_type": "stream",
     "text": [
      "[161]\ttrain-mlogloss:1.00085\teval-mlogloss:1.08825\n",
      "[162]\ttrain-mlogloss:1.00026\teval-mlogloss:1.0882\n",
      "[163]\ttrain-mlogloss:0.999756\teval-mlogloss:1.08825\n",
      "[164]\ttrain-mlogloss:0.999207\teval-mlogloss:1.0882\n",
      "[165]\ttrain-mlogloss:0.998629\teval-mlogloss:1.08815\n",
      "[166]\ttrain-mlogloss:0.998034\teval-mlogloss:1.08812\n",
      "[167]\ttrain-mlogloss:0.997484\teval-mlogloss:1.08807\n",
      "[168]\ttrain-mlogloss:0.996733\teval-mlogloss:1.08804\n",
      "[169]\ttrain-mlogloss:0.996099\teval-mlogloss:1.08798\n",
      "[170]\ttrain-mlogloss:0.995525\teval-mlogloss:1.08791\n",
      "[171]\ttrain-mlogloss:0.995027\teval-mlogloss:1.08789\n",
      "[172]\ttrain-mlogloss:0.994355\teval-mlogloss:1.08792\n",
      "[173]\ttrain-mlogloss:0.993913\teval-mlogloss:1.08795\n",
      "[174]\ttrain-mlogloss:0.993255\teval-mlogloss:1.0879\n",
      "[175]\ttrain-mlogloss:0.992711\teval-mlogloss:1.08793\n",
      "[176]\ttrain-mlogloss:0.992209\teval-mlogloss:1.08791\n",
      "[177]\ttrain-mlogloss:0.991645\teval-mlogloss:1.08794\n",
      "[178]\ttrain-mlogloss:0.991089\teval-mlogloss:1.08799\n",
      "[179]\ttrain-mlogloss:0.990435\teval-mlogloss:1.08796\n",
      "[180]\ttrain-mlogloss:0.989951\teval-mlogloss:1.08797\n",
      "[181]\ttrain-mlogloss:0.989464\teval-mlogloss:1.08795\n",
      "[182]\ttrain-mlogloss:0.988891\teval-mlogloss:1.08796\n",
      "[183]\ttrain-mlogloss:0.988284\teval-mlogloss:1.08794\n",
      "[184]\ttrain-mlogloss:0.987663\teval-mlogloss:1.08793\n",
      "[185]\ttrain-mlogloss:0.987141\teval-mlogloss:1.08795\n",
      "[186]\ttrain-mlogloss:0.986696\teval-mlogloss:1.08795\n",
      "[187]\ttrain-mlogloss:0.985965\teval-mlogloss:1.0879\n",
      "[188]\ttrain-mlogloss:0.985343\teval-mlogloss:1.08787\n",
      "[189]\ttrain-mlogloss:0.984865\teval-mlogloss:1.08787\n",
      "[190]\ttrain-mlogloss:0.984236\teval-mlogloss:1.08784\n",
      "[191]\ttrain-mlogloss:0.983644\teval-mlogloss:1.08786\n",
      "[192]\ttrain-mlogloss:0.983228\teval-mlogloss:1.08784\n",
      "[193]\ttrain-mlogloss:0.982596\teval-mlogloss:1.08783\n",
      "[194]\ttrain-mlogloss:0.982011\teval-mlogloss:1.08781\n",
      "[195]\ttrain-mlogloss:0.981455\teval-mlogloss:1.08779\n",
      "[196]\ttrain-mlogloss:0.98086\teval-mlogloss:1.0878\n",
      "[197]\ttrain-mlogloss:0.980195\teval-mlogloss:1.08769\n",
      "[198]\ttrain-mlogloss:0.9797\teval-mlogloss:1.08763\n",
      "[199]\ttrain-mlogloss:0.979266\teval-mlogloss:1.08763\n",
      "[200]\ttrain-mlogloss:0.978713\teval-mlogloss:1.08764\n",
      "[201]\ttrain-mlogloss:0.978213\teval-mlogloss:1.08762\n",
      "[202]\ttrain-mlogloss:0.977865\teval-mlogloss:1.08763\n",
      "[203]\ttrain-mlogloss:0.97728\teval-mlogloss:1.08762\n",
      "[204]\ttrain-mlogloss:0.976864\teval-mlogloss:1.0876\n",
      "[205]\ttrain-mlogloss:0.976402\teval-mlogloss:1.08766\n",
      "[206]\ttrain-mlogloss:0.975864\teval-mlogloss:1.08766\n",
      "[207]\ttrain-mlogloss:0.97537\teval-mlogloss:1.08767\n",
      "[208]\ttrain-mlogloss:0.974955\teval-mlogloss:1.0877\n",
      "[209]\ttrain-mlogloss:0.974492\teval-mlogloss:1.08768\n",
      "[210]\ttrain-mlogloss:0.974007\teval-mlogloss:1.08772\n",
      "[211]\ttrain-mlogloss:0.973547\teval-mlogloss:1.08768\n",
      "[212]\ttrain-mlogloss:0.972964\teval-mlogloss:1.08771\n",
      "[213]\ttrain-mlogloss:0.972469\teval-mlogloss:1.08768\n",
      "[214]\ttrain-mlogloss:0.971953\teval-mlogloss:1.08763\n",
      "[215]\ttrain-mlogloss:0.971448\teval-mlogloss:1.08761\n",
      "[216]\ttrain-mlogloss:0.970913\teval-mlogloss:1.08762\n",
      "[217]\ttrain-mlogloss:0.970446\teval-mlogloss:1.08759\n",
      "[218]\ttrain-mlogloss:0.969869\teval-mlogloss:1.08756\n",
      "[219]\ttrain-mlogloss:0.96948\teval-mlogloss:1.08758\n",
      "[220]\ttrain-mlogloss:0.969001\teval-mlogloss:1.08757\n",
      "[221]\ttrain-mlogloss:0.968563\teval-mlogloss:1.08759\n",
      "[222]\ttrain-mlogloss:0.968048\teval-mlogloss:1.08762\n",
      "[223]\ttrain-mlogloss:0.96746\teval-mlogloss:1.08761\n",
      "[224]\ttrain-mlogloss:0.966956\teval-mlogloss:1.08757\n",
      "[225]\ttrain-mlogloss:0.9664\teval-mlogloss:1.08759\n",
      "[226]\ttrain-mlogloss:0.96595\teval-mlogloss:1.08759\n",
      "[227]\ttrain-mlogloss:0.965428\teval-mlogloss:1.08756\n",
      "[228]\ttrain-mlogloss:0.964887\teval-mlogloss:1.08754\n",
      "[229]\ttrain-mlogloss:0.964463\teval-mlogloss:1.08755\n",
      "[230]\ttrain-mlogloss:0.964033\teval-mlogloss:1.08758\n",
      "[231]\ttrain-mlogloss:0.963515\teval-mlogloss:1.08757\n",
      "[232]\ttrain-mlogloss:0.96301\teval-mlogloss:1.08758\n",
      "[233]\ttrain-mlogloss:0.962471\teval-mlogloss:1.08761\n",
      "[234]\ttrain-mlogloss:0.962012\teval-mlogloss:1.08759\n",
      "[235]\ttrain-mlogloss:0.961479\teval-mlogloss:1.08767\n",
      "[236]\ttrain-mlogloss:0.960974\teval-mlogloss:1.08769\n",
      "[237]\ttrain-mlogloss:0.960479\teval-mlogloss:1.08772\n",
      "[238]\ttrain-mlogloss:0.960093\teval-mlogloss:1.08771\n",
      "[239]\ttrain-mlogloss:0.959612\teval-mlogloss:1.08771\n",
      "[240]\ttrain-mlogloss:0.959127\teval-mlogloss:1.08767\n",
      "[241]\ttrain-mlogloss:0.958595\teval-mlogloss:1.08765\n",
      "[242]\ttrain-mlogloss:0.958241\teval-mlogloss:1.08766\n",
      "[243]\ttrain-mlogloss:0.957767\teval-mlogloss:1.08768\n",
      "[244]\ttrain-mlogloss:0.9573\teval-mlogloss:1.08769\n",
      "[245]\ttrain-mlogloss:0.95677\teval-mlogloss:1.0877\n",
      "[246]\ttrain-mlogloss:0.956344\teval-mlogloss:1.08773\n",
      "[247]\ttrain-mlogloss:0.955817\teval-mlogloss:1.08778\n",
      "[248]\ttrain-mlogloss:0.955292\teval-mlogloss:1.08779\n",
      "Stopping. Best iteration:\n",
      "[228]\ttrain-mlogloss:0.964887\teval-mlogloss:1.08754\n",
      "\n"
     ]
    },
    {
     "ename": "NameError",
     "evalue": "name 'picle' is not defined",
     "output_type": "error",
     "traceback": [
      "\u001b[0;31m---------------------------------------------------------------------------\u001b[0m",
      "\u001b[0;31mNameError\u001b[0m                                 Traceback (most recent call last)",
      "\u001b[0;32m<timed exec>\u001b[0m in \u001b[0;36m<module>\u001b[0;34m()\u001b[0m\n",
      "\u001b[0;31mNameError\u001b[0m: name 'picle' is not defined"
     ]
    }
   ],
   "source": [
    "%%time\n",
    "watch_list = [(dtrn, 'train'), (dvld, 'eval')]\n",
    "model = xgb.train(param, dtrn, num_boost_round=1000, evals=watch_list, early_stopping_rounds=20)\n",
    "\n",
    "import pickle\n"
   ]
  },
  {
   "cell_type": "code",
   "execution_count": 51,
   "metadata": {},
   "outputs": [],
   "source": [
    "pickle.dump(model, open(\"xgb.baseline.pkl\", \"wb\"))\n",
    "best_ntree_limit = model.best_ntree_limit"
   ]
  },
  {
   "cell_type": "code",
   "execution_count": 52,
   "metadata": {},
   "outputs": [
    {
     "name": "stdout",
     "output_type": "stream",
     "text": [
      "Kaggle_Chapter2_Code2-15.ipynb\t\t\t\ttest_ver2.csv\r\n",
      "Kaggle_Chapter2_Santander_Product_Recommendation.ipynb\ttest_ver2.csv.zip\r\n",
      "labels.csv\t\t\t\t\t\ttrain_ver2.csv\r\n",
      "lost+found\t\t\t\t\t\ttrain_ver2.csv.zip\r\n",
      "notebooks\t\t\t\t\t\txgb.baseline.pkl\r\n",
      "sample_submission.csv.zip\r\n"
     ]
    }
   ],
   "source": [
    "!ls"
   ]
  },
  {
   "cell_type": "code",
   "execution_count": null,
   "metadata": {},
   "outputs": [],
   "source": []
  }
 ],
 "metadata": {
  "kernelspec": {
   "display_name": "conda_tensorflow_p36",
   "language": "python",
   "name": "conda_tensorflow_p36"
  },
  "language_info": {
   "codemirror_mode": {
    "name": "ipython",
    "version": 3
   },
   "file_extension": ".py",
   "mimetype": "text/x-python",
   "name": "python",
   "nbconvert_exporter": "python",
   "pygments_lexer": "ipython3",
   "version": "3.6.5"
  }
 },
 "nbformat": 4,
 "nbformat_minor": 2
}
