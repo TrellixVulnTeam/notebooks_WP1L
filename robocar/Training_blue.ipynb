{
 "cells": [
  {
   "cell_type": "code",
   "execution_count": 1,
   "metadata": {},
   "outputs": [
    {
     "name": "stderr",
     "output_type": "stream",
     "text": [
      "sh: line 3: cd: /home/ec2-user/SageMaker/donkey/sagetrain/container: No such file or directory\n"
     ]
    }
   ],
   "source": [
    "%%sh\n",
    "\n",
    "image=robocarkr\n",
    "cd /home/ec2-user/SageMaker/donkey/sagetrain/container\n",
    "\n",
    "\n"
   ]
  },
  {
   "cell_type": "code",
   "execution_count": null,
   "metadata": {},
   "outputs": [],
   "source": [
    "\n"
   ]
  },
  {
   "cell_type": "code",
   "execution_count": null,
   "metadata": {},
   "outputs": [
    {
     "name": "stderr",
     "output_type": "stream",
     "text": [
      "INFO:sagemaker:Creating training-job with name: robocar-yikster-2018-10-09-11-10-37-729\n"
     ]
    },
    {
     "name": "stdout",
     "output_type": "stream",
     "text": [
      "2018-10-09 11:10:37 Starting - Starting the training job...\n",
      "Launching requested ML instances....."
     ]
    }
   ],
   "source": [
    "import os\n",
    "import sagemaker as sage\n",
    "from sagemaker import get_execution_role\n",
    "\n",
    "sagemaker_session = sage.Session()\n",
    "\n",
    "role = get_execution_role()\n",
    "\n",
    "inputs = \"s3://kyoungsu-robocar-nrt/traindata/blue/20181008_070220\"\n",
    "#inputs = \"s3://kyoungsu-robocar-icn/tub-test\"\n",
    "output_bucket = \"kyoungsu-robocar-nrt\"\n",
    "image=\"125492839279.dkr.ecr.ap-northeast-1.amazonaws.com/robocar-yikster\"\n",
    "algo = sage.estimator.Estimator(image,\n",
    "                       role, 1, 'ml.p3.2xlarge', #train_instance_type='local', \n",
    "                       output_path=\"s3://{}/blue/output\".format(output_bucket),\n",
    "                       sagemaker_session=sagemaker_session)\n",
    "\n",
    "algo.fit(inputs)\n"
   ]
  },
  {
   "cell_type": "code",
   "execution_count": null,
   "metadata": {},
   "outputs": [],
   "source": []
  },
  {
   "cell_type": "code",
   "execution_count": null,
   "metadata": {},
   "outputs": [],
   "source": []
  }
 ],
 "metadata": {
  "kernelspec": {
   "display_name": "conda_tensorflow_p36",
   "language": "python",
   "name": "conda_tensorflow_p36"
  },
  "language_info": {
   "codemirror_mode": {
    "name": "ipython",
    "version": 3
   },
   "file_extension": ".py",
   "mimetype": "text/x-python",
   "name": "python",
   "nbconvert_exporter": "python",
   "pygments_lexer": "ipython3",
   "version": "3.6.5"
  }
 },
 "nbformat": 4,
 "nbformat_minor": 2
}
