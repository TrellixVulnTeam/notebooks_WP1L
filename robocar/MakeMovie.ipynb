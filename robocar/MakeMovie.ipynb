{
 "cells": [
  {
   "cell_type": "code",
   "execution_count": 3,
   "metadata": {},
   "outputs": [
    {
     "name": "stdout",
     "output_type": "stream",
     "text": [
      "Requirement already satisfied: moviepy in /home/ec2-user/anaconda3/envs/tensorflow_p27/lib/python2.7/site-packages (0.2.3.5)\n",
      "Requirement already satisfied: tqdm<5.0,>=4.11.2 in /home/ec2-user/anaconda3/envs/tensorflow_p27/lib/python2.7/site-packages (from moviepy) (4.27.0)\n",
      "Requirement already satisfied: numpy in /home/ec2-user/anaconda3/envs/tensorflow_p27/lib/python2.7/site-packages (from moviepy) (1.14.5)\n",
      "Requirement already satisfied: decorator<5.0,>=4.0.2 in /home/ec2-user/anaconda3/envs/tensorflow_p27/lib/python2.7/site-packages (from moviepy) (4.3.0)\n",
      "Requirement already satisfied: imageio<3.0,>=2.1.2 in /home/ec2-user/anaconda3/envs/tensorflow_p27/lib/python2.7/site-packages (from moviepy) (2.3.0)\n",
      "\u001b[33mYou are using pip version 10.0.1, however version 18.1 is available.\n",
      "You should consider upgrading via the 'pip install --upgrade pip' command.\u001b[0m\n",
      "Loaded plugins: dkms-build-requires, priorities, update-motd, upgrade-helper\n",
      "libnvidia-container/x86_64/signature                     |  455 B     00:00     \n",
      "Retrieving key from https://nvidia.github.io/libnvidia-container/gpgkey\n",
      "libnvidia-container/x86_64/signature                     | 2.0 kB     00:00 !!! \n",
      "https://nvidia.github.io/libnvidia-container/amzn1/x86_64/repodata/repomd.xml: [Errno -1] repomd.xml signature could not be verified for libnvidia-container\n",
      "Trying other mirror.\n",
      "nvidia-container-runtime/x86_64/signature                |  455 B     00:00     \n",
      "Retrieving key from https://nvidia.github.io/nvidia-container-runtime/gpgkey\n",
      "nvidia-container-runtime/x86_64/signature                | 2.0 kB     00:00 !!! \n",
      "https://nvidia.github.io/nvidia-container-runtime/amzn1/x86_64/repodata/repomd.xml: [Errno -1] repomd.xml signature could not be verified for nvidia-container-runtime\n",
      "Trying other mirror.\n",
      "nvidia-docker/x86_64/signature                           |  455 B     00:00     \n",
      "Retrieving key from https://nvidia.github.io/nvidia-docker/gpgkey\n",
      "nvidia-docker/x86_64/signature                           | 2.0 kB     00:00 !!! \n",
      "https://nvidia.github.io/nvidia-docker/amzn1/x86_64/repodata/repomd.xml: [Errno -1] repomd.xml signature could not be verified for nvidia-docker\n",
      "Trying other mirror.\n",
      "No package \u001b[1mffmpeg\u001b[m available.\n",
      "Error: Nothing to do\n",
      "[MoviePy] >>>> Building video p4000.mp4\n",
      "[MoviePy] Writing video p4000.mp4\n"
     ]
    },
    {
     "name": "stderr",
     "output_type": "stream",
     "text": [
      "100%|██████████| 6234/6234 [01:20<00:00, 77.56it/s]"
     ]
    },
    {
     "name": "stdout",
     "output_type": "stream",
     "text": [
      "[MoviePy] Done.\n",
      "[MoviePy] >>>> Video ready: p4000.mp4 \n",
      "\n"
     ]
    },
    {
     "name": "stderr",
     "output_type": "stream",
     "text": [
      "\n"
     ]
    }
   ],
   "source": [
    "!pip install moviepy\n",
    "!sudo yum -y install ffmpeg\n",
    "\n",
    "import os\n",
    "from moviepy.editor import *\n",
    "\n",
    "full_path = \"/tmp/heatmaps\"\n",
    "clips = []\n",
    "files = []\n",
    "for file in os.listdir(full_path):\n",
    "        if file.endswith(\".jpg\"):\n",
    "            files.append(full_path + \"/\" +file)\n",
    "            \n",
    "files.sort()    \n",
    "clips = [ImageClip(m).set_duration(0.15) for m in files]\n",
    "\n",
    "concat_clip = concatenate_videoclips(clips, method=\"compose\")\n",
    "concat_clip.write_videofile(\"p4000.mp4\", fps=10)"
   ]
  },
  {
   "cell_type": "code",
   "execution_count": null,
   "metadata": {},
   "outputs": [],
   "source": []
  }
 ],
 "metadata": {
  "kernelspec": {
   "display_name": "conda_tensorflow_p27",
   "language": "python",
   "name": "conda_tensorflow_p27"
  },
  "language_info": {
   "codemirror_mode": {
    "name": "ipython",
    "version": 2
   },
   "file_extension": ".py",
   "mimetype": "text/x-python",
   "name": "python",
   "nbconvert_exporter": "python",
   "pygments_lexer": "ipython2",
   "version": "2.7.15"
  }
 },
 "nbformat": 4,
 "nbformat_minor": 2
}
